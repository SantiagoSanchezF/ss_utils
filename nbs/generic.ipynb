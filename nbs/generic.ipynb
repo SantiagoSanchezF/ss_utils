{
 "cells": [
  {
   "cell_type": "markdown",
   "id": "01346007-b4fc-42da-90e2-f49483e1452a",
   "metadata": {},
   "source": [
    "# Generic\n",
    "\n",
    "> generic functions to help higher utils"
   ]
  },
  {
   "cell_type": "code",
   "execution_count": null,
   "id": "4242e64c-c462-4513-893c-955c623c0f82",
   "metadata": {},
   "outputs": [],
   "source": [
    "#| default_exp generic"
   ]
  },
  {
   "cell_type": "code",
   "execution_count": null,
   "id": "f534283f-56be-4f47-907c-fde71b03fb95",
   "metadata": {},
   "outputs": [],
   "source": [
    "#| hide\n",
    "from nbdev.showdoc import *\n",
    "from fastcore.utils import *"
   ]
  },
  {
   "cell_type": "code",
   "execution_count": null,
   "id": "89cf25f6-613a-43c5-9dbe-891228f77dca",
   "metadata": {},
   "outputs": [],
   "source": [
    "#| export\n",
    "import os\n",
    "import pickle"
   ]
  },
  {
   "cell_type": "code",
   "execution_count": null,
   "id": "00ec4c66-f93b-4102-80ea-6d132237b7ab",
   "metadata": {},
   "outputs": [],
   "source": [
    "#| export\n",
    "def load_pickle(pickle_file):\n",
    "    \"read a pickle file\"\n",
    "    if os.path.isfile(pickle_file) == False:\n",
    "        return\n",
    "    with open(pickle_file, \"rb\") as h:\n",
    "        result = pickle.load(h)\n",
    "    return result"
   ]
  },
  {
   "cell_type": "code",
   "execution_count": null,
   "id": "f9f5bc55-83c9-4f38-9014-8bbcb63318d7",
   "metadata": {},
   "outputs": [],
   "source": [
    "#| export\n",
    "def dump_pickle(obj,pickle_file,protocol=3):\n",
    "    \"dump an object to pickle file\"\n",
    "    with open(\"pickle_file\", \"wb\") as h:\n",
    "        pickle.dump(obj, h, protocol=protocol)\n",
    "    return "
   ]
  },
  {
   "cell_type": "code",
   "execution_count": null,
   "id": "0e3abed4-d974-440c-b218-c083864665ce",
   "metadata": {},
   "outputs": [],
   "source": [
    "#| hide\n",
    "import nbdev; nbdev.nbdev_export()"
   ]
  }
 ],
 "metadata": {
  "kernelspec": {
   "display_name": "Python 3 (ipykernel)",
   "language": "python",
   "name": "python3"
  }
 },
 "nbformat": 4,
 "nbformat_minor": 5
}
