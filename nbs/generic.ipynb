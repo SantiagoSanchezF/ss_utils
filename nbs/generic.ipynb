{
 "cells": [
  {
   "cell_type": "markdown",
   "id": "01346007-b4fc-42da-90e2-f49483e1452a",
   "metadata": {},
   "source": [
    "# Generic\n",
    "\n",
    "> generic functions to help higher utils"
   ]
  },
  {
   "cell_type": "code",
   "execution_count": 1,
   "id": "4242e64c-c462-4513-893c-955c623c0f82",
   "metadata": {},
   "outputs": [],
   "source": [
    "#| default_exp generic"
   ]
  },
  {
   "cell_type": "code",
   "execution_count": 2,
   "id": "f534283f-56be-4f47-907c-fde71b03fb95",
   "metadata": {},
   "outputs": [],
   "source": [
    "#| hide\n",
    "from nbdev.showdoc import *\n",
    "from fastcore.utils import *"
   ]
  },
  {
   "cell_type": "code",
   "execution_count": 3,
   "id": "86688610-216f-461c-a354-df4e121459da",
   "metadata": {},
   "outputs": [],
   "source": [
    "#| export\n",
    "import os\n",
    "import pickle"
   ]
  },
  {
   "cell_type": "code",
   "execution_count": 4,
   "id": "333d3a4d-09df-440f-9e8b-b1c9564ef7d8",
   "metadata": {},
   "outputs": [],
   "source": [
    "#| export\n",
    "def load_pickle(pickle_file):\n",
    "    \"read a pickle file\"\n",
    "    if os.path.isfile(pickle_file) == False:\n",
    "        return\n",
    "    with open(pickle_file, \"rb\") as h:\n",
    "        result = pickle.load(h)\n",
    "    return result"
   ]
  },
  {
   "cell_type": "code",
   "execution_count": 5,
   "id": "50c97528-0476-423a-ad8c-8c0ec79d8be0",
   "metadata": {},
   "outputs": [],
   "source": [
    "#| export\n",
    "def dump_pickle(obj,pickle_file,protocol=3):\n",
    "    \"dump an object to pickle file\"\n",
    "    with open(\"pickle_file\", \"wb\") as h:\n",
    "        pickle.dump(obj, h, protocol=protocol)\n",
    "    return "
   ]
  },
  {
   "cell_type": "code",
   "execution_count": 7,
   "id": "0e3abed4-d974-440c-b218-c083864665ce",
   "metadata": {},
   "outputs": [],
   "source": [
    "#| hide\n",
    "import nbdev; nbdev.nbdev_export()"
   ]
  },
  {
   "cell_type": "code",
   "execution_count": null,
   "id": "7f7c912c-0ad8-46e1-971d-68cf775d75ff",
   "metadata": {},
   "outputs": [],
   "source": []
  }
 ],
 "metadata": {
  "kernelspec": {
   "display_name": "Python 3 (ipykernel)",
   "language": "python",
   "name": "python3"
  },
  "language_info": {
   "codemirror_mode": {
    "name": "ipython",
    "version": 3
   },
   "file_extension": ".py",
   "mimetype": "text/x-python",
   "name": "python",
   "nbconvert_exporter": "python",
   "pygments_lexer": "ipython3",
   "version": "3.10.6"
  }
 },
 "nbformat": 4,
 "nbformat_minor": 5
}
